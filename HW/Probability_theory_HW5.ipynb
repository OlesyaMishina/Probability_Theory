{
 "cells": [
  {
   "cell_type": "markdown",
   "id": "bade2178",
   "metadata": {},
   "source": [
    "1) Когда используется критерий Стьюдента, а когда Z –критерий?"
   ]
  },
  {
   "cell_type": "markdown",
   "id": "b4fd7e15",
   "metadata": {},
   "source": [
    "Z –критерий используют при известной сигма выборки, а критерий Стьюдента при неизвестной сигма."
   ]
  },
  {
   "cell_type": "markdown",
   "id": "0209eee0",
   "metadata": {},
   "source": [
    "2) Проведите тест гипотезы. Утверждается, что шарики для подшипников, изготовленные автоматическим станком, имеют средний диаметр 17 мм.\n",
    "Используя односторонний критерий с α=0,05, проверить эту гипотезу, если в выборке из n=100 шариков средний диаметр оказался равным 17.5 мм, а дисперсия известна и равна 4 кв. мм."
   ]
  },
  {
   "cell_type": "markdown",
   "id": "fd82b1e3",
   "metadata": {},
   "source": [
    "Так как у нас известна дисперсия генеральной совокупности (если в условии задачи имеется ввиду она), используем Z критерий."
   ]
  },
  {
   "cell_type": "code",
   "execution_count": 80,
   "id": "df3cbcf0",
   "metadata": {},
   "outputs": [],
   "source": [
    "M=17\n",
    "M_observed=17.5\n",
    "D=4\n",
    "alpha=0.05\n",
    "n=100"
   ]
  },
  {
   "cell_type": "markdown",
   "id": "c65e492b",
   "metadata": {},
   "source": [
    "Найдем наблюдаемое значение Z критерия:"
   ]
  },
  {
   "cell_type": "code",
   "execution_count": 82,
   "id": "22f73781",
   "metadata": {},
   "outputs": [
    {
     "name": "stdout",
     "output_type": "stream",
     "text": [
      "2.5\n"
     ]
    }
   ],
   "source": [
    "print((M_observed-M)/(D**0.5/100**0.5))"
   ]
  },
  {
   "cell_type": "markdown",
   "id": "e3066958",
   "metadata": {},
   "source": [
    "Найдем табличное значение Z критерия для уровня значимости 5%:"
   ]
  },
  {
   "cell_type": "code",
   "execution_count": 23,
   "id": "12c30b89",
   "metadata": {},
   "outputs": [
    {
     "name": "stdout",
     "output_type": "stream",
     "text": [
      "1.6448536269514722\n"
     ]
    }
   ],
   "source": [
    "import scipy.stats as stats\n",
    "print(stats.norm.ppf(1-alpha))"
   ]
  },
  {
   "cell_type": "markdown",
   "id": "5c964528",
   "metadata": {},
   "source": [
    "Так как наблюдаемое значение Z критерия больше табличного значения, то мы при уровне значимости 5% отвергаем нулевую гипотезу о равестве средних, и принимаем альтернативную гипотезу а том, что ее среднее больше."
   ]
  },
  {
   "cell_type": "markdown",
   "id": "11e99c30",
   "metadata": {},
   "source": [
    "3. Проведите тест гипотезы. Продавец утверждает, что средний вес пачки печенья составляет 200 г.\n",
    "Из партии извлечена выборка из 10 пачек. Вес каждой пачки составляет:\n",
    "202, 203, 199, 197, 195, 201, 200, 204, 194, 190.\n",
    "Известно, что их веса распределены нормально.\n",
    "Верно ли утверждение продавца, если учитывать, что доверительная вероятность равна 99%? (Провести двусторонний тест.)"
   ]
  },
  {
   "cell_type": "code",
   "execution_count": 83,
   "id": "fceac11f",
   "metadata": {},
   "outputs": [
    {
     "data": {
      "text/plain": [
       "ShapiroResult(statistic=0.9503403902053833, pvalue=0.6725296378135681)"
      ]
     },
     "execution_count": 83,
     "metadata": {},
     "output_type": "execute_result"
    }
   ],
   "source": [
    "import numpy as np\n",
    "M=200\n",
    "n=10\n",
    "x=np.array([202, 203, 199, 197, 195, 201, 200, 204, 194, 190])\n",
    "alpha=0.01/2\n",
    "stats.shapiro(x)"
   ]
  },
  {
   "cell_type": "code",
   "execution_count": 84,
   "id": "72ae7242",
   "metadata": {},
   "outputs": [
    {
     "name": "stdout",
     "output_type": "stream",
     "text": [
      "Среднее значение выборки: 198.5.\n",
      "Стандартное отклонение выборки: 4.453463071962462\n"
     ]
    }
   ],
   "source": [
    "M_observed=np.mean(x)\n",
    "print(f'Среднее значение выборки: {M_observed}.')\n",
    "std_observsed=np.std(x, ddof=1)\n",
    "print(f'Стандартное отклонение выборки: {std_observsed}')"
   ]
  },
  {
   "cell_type": "markdown",
   "id": "cf517a97",
   "metadata": {},
   "source": [
    "Так как дисперсия генеральной совокупности неизвестна, используем критерий Стьюдента.\n",
    "Рассчитаем его для нашей выборки:"
   ]
  },
  {
   "cell_type": "code",
   "execution_count": 85,
   "id": "f7a2afaf",
   "metadata": {},
   "outputs": [
    {
     "name": "stdout",
     "output_type": "stream",
     "text": [
      "Наблюдаемый критерий Стьюдента: -1.0651074037450896\n"
     ]
    }
   ],
   "source": [
    "print(f'Наблюдаемый критерий Стьюдента: {(M_observed-M)/(std_observsed/n**0.5)}')"
   ]
  },
  {
   "cell_type": "code",
   "execution_count": 86,
   "id": "8e75bd00",
   "metadata": {},
   "outputs": [
    {
     "name": "stdout",
     "output_type": "stream",
     "text": [
      "Табличное значение критерия Стьюдента для уровня значимости 0,995: 3.2498355440153697\n"
     ]
    }
   ],
   "source": [
    "print(f'Табличное значение критерия Стьюдента для уровня значимости 0,995: {stats.t.ppf(1-alpha, n-1)}')"
   ]
  },
  {
   "cell_type": "markdown",
   "id": "c4d001e4",
   "metadata": {},
   "source": [
    "Так как модуль наблюдаемого критерия Стьюдента меньше табличного, то мы принимаем нулевую гипотезу о равенстве среднего веса 200 с уровнем значимости 0,01."
   ]
  },
  {
   "cell_type": "markdown",
   "id": "4da4dd5d",
   "metadata": {},
   "source": [
    "4. Есть ли статистически значимые различия в росте дочерей?\n",
    "Рост матерей 172, 177, 158, 170, 178,175, 164, 160, 169\n",
    "Рост взрослых дочерей: 173, 175, 162, 174, 175, 168, 155, 170, 160"
   ]
  },
  {
   "cell_type": "code",
   "execution_count": 87,
   "id": "163cfd53",
   "metadata": {},
   "outputs": [
    {
     "data": {
      "text/plain": [
       "TtestResult(statistic=0.559522990335608, pvalue=0.5911212354055175, df=8)"
      ]
     },
     "execution_count": 87,
     "metadata": {},
     "output_type": "execute_result"
    }
   ],
   "source": [
    "mothers=np.array([172, 177, 158, 170, 178,175, 164, 160, 169])\n",
    "daughters=np.array([173, 175, 162, 174, 175, 168, 155, 170, 160])\n",
    "stats.ttest_rel(mothers, daughters)"
   ]
  },
  {
   "cell_type": "markdown",
   "id": "3abef457",
   "metadata": {},
   "source": [
    "Так как pvalue=0,59 и значительно больше уровня значимости (пусть 0,05), то мы принимаем нулевую гипотезу об отсутсвии статистичестики значимых различий в росте дочерей."
   ]
  },
  {
   "cell_type": "code",
   "execution_count": null,
   "id": "8ca93624",
   "metadata": {},
   "outputs": [],
   "source": []
  },
  {
   "cell_type": "markdown",
   "id": "97cd8349",
   "metadata": {},
   "source": [
    "Попробуем сравнить выборки через критерий Стьюдента. Используем двусторонний критерий Стьюдента"
   ]
  },
  {
   "cell_type": "code",
   "execution_count": 101,
   "id": "f6975e5e",
   "metadata": {},
   "outputs": [
    {
     "data": {
      "text/plain": [
       "ShapiroResult(statistic=0.9342719912528992, pvalue=0.5230545401573181)"
      ]
     },
     "execution_count": 101,
     "metadata": {},
     "output_type": "execute_result"
    }
   ],
   "source": [
    "stats.shapiro(mothers)"
   ]
  },
  {
   "cell_type": "code",
   "execution_count": 103,
   "id": "a47ef028",
   "metadata": {},
   "outputs": [
    {
     "data": {
      "text/plain": [
       "ShapiroResult(statistic=0.879397988319397, pvalue=0.15474608540534973)"
      ]
     },
     "execution_count": 103,
     "metadata": {},
     "output_type": "execute_result"
    }
   ],
   "source": [
    "stats.shapiro(daughters)"
   ]
  },
  {
   "cell_type": "code",
   "execution_count": 92,
   "id": "5f8458f5",
   "metadata": {
    "scrolled": true
   },
   "outputs": [
    {
     "name": "stdout",
     "output_type": "stream",
     "text": [
      "Наблюдаемый критерий Стьюдента: 0.12579852190724153\n"
     ]
    }
   ],
   "source": [
    "M_m=np.mean(mothers)\n",
    "M_d=np.mean(daughters)\n",
    "std_m=np.std(mothers, ddof=len(mothers)-1)\n",
    "std_d=np.std(daughters, ddof=len(daughters)-1)\n",
    "t_observed=(M_m-M_d)/(std_m**2/len(mothers)+std_d**2/len(daughters))**0.5\n",
    "print(f'Наблюдаемый критерий Стьюдента: {t_observed}')"
   ]
  },
  {
   "cell_type": "code",
   "execution_count": 98,
   "id": "2035828e",
   "metadata": {},
   "outputs": [
    {
     "name": "stdout",
     "output_type": "stream",
     "text": [
      "Табличный критерий Стьюдента: 2.1199052992210112\n"
     ]
    }
   ],
   "source": [
    "print(f'Табличный критерий Стьюдента: {stats.t.ppf(0.975, len(mothers)+len(daughters)-2)}')"
   ]
  },
  {
   "cell_type": "markdown",
   "id": "dbe67b42",
   "metadata": {},
   "source": [
    "Так как модуль наблюдаемого критерия Стьюдента меньше табличного, то мы принимаем нулевую гипотезу об отсутствии статистических различий в росте дочерей с уровнем значимости 5%."
   ]
  }
 ],
 "metadata": {
  "kernelspec": {
   "display_name": "Python 3 (ipykernel)",
   "language": "python",
   "name": "python3"
  },
  "language_info": {
   "codemirror_mode": {
    "name": "ipython",
    "version": 3
   },
   "file_extension": ".py",
   "mimetype": "text/x-python",
   "name": "python",
   "nbconvert_exporter": "python",
   "pygments_lexer": "ipython3",
   "version": "3.10.9"
  }
 },
 "nbformat": 4,
 "nbformat_minor": 5
}
