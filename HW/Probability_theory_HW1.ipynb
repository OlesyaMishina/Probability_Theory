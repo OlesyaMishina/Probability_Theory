{
 "cells": [
  {
   "cell_type": "markdown",
   "id": "2872818b",
   "metadata": {},
   "source": [
    "### 1. Из колоды в 52 карты извлекаются случайным образом 4 карты. \n",
    "### a) Найти вероятность того, что все карты – крести."
   ]
  },
  {
   "cell_type": "code",
   "execution_count": 4,
   "id": "73296ffd",
   "metadata": {},
   "outputs": [
    {
     "data": {
      "text/plain": [
       "0.0026"
      ]
     },
     "execution_count": 4,
     "metadata": {},
     "output_type": "execute_result"
    }
   ],
   "source": [
    "P_трефы=round(13/52*12/51*11/50*10/49,4)\n",
    "P_трефы"
   ]
  },
  {
   "cell_type": "markdown",
   "id": "cced937b",
   "metadata": {},
   "source": [
    "Или используя формулу подсчета количества сочетаний по k элементов из множества n и определение вероятности.\n",
    "P(4трефы)=m/n, m количество благоприятных исходов извлечь 4 трефы из 13 возможных, n все возможные варианты извлечь 4 карты из 52."
   ]
  },
  {
   "cell_type": "code",
   "execution_count": 6,
   "id": "13707c3a",
   "metadata": {},
   "outputs": [],
   "source": [
    "from math import factorial\n",
    "def combinations(n, k):\n",
    "    return factorial(n)/(factorial(k)*factorial(n-k))"
   ]
  },
  {
   "cell_type": "code",
   "execution_count": 8,
   "id": "636435be",
   "metadata": {},
   "outputs": [
    {
     "name": "stdout",
     "output_type": "stream",
     "text": [
      "m = 715.0\n"
     ]
    }
   ],
   "source": [
    "m=combinations(13, 4)\n",
    "print(f'm = {m}')"
   ]
  },
  {
   "cell_type": "code",
   "execution_count": 9,
   "id": "b6c2f025",
   "metadata": {},
   "outputs": [
    {
     "name": "stdout",
     "output_type": "stream",
     "text": [
      "n = 270725.0\n"
     ]
    }
   ],
   "source": [
    "n=combinations(52,4)\n",
    "print(f'n = {n}')"
   ]
  },
  {
   "cell_type": "code",
   "execution_count": 12,
   "id": "b4ce76eb",
   "metadata": {},
   "outputs": [
    {
     "name": "stdout",
     "output_type": "stream",
     "text": [
      " P_трефы= 0.0026\n"
     ]
    }
   ],
   "source": [
    "P_трефы=m/n\n",
    "print(f' P_трефы= {round(P_трефы,4)}')"
   ]
  },
  {
   "cell_type": "markdown",
   "id": "70bfb98f",
   "metadata": {},
   "source": [
    " ### б) Найти вероятность, что среди 4-х карт окажется хотя бы один туз.\n"
   ]
  },
  {
   "cell_type": "markdown",
   "id": "01d284ac",
   "metadata": {},
   "source": [
    "P_один_туз посчитаем как разницу вероястности всех возможных событий (n) и событый когда туза не попалось (сочетания 4 элементов из 48)."
   ]
  },
  {
   "cell_type": "code",
   "execution_count": 17,
   "id": "6f431a62",
   "metadata": {},
   "outputs": [
    {
     "name": "stdout",
     "output_type": "stream",
     "text": [
      "P_один_туз = 0.2813\n"
     ]
    }
   ],
   "source": [
    "P_один_туз=round(1 - combinations(48, 4)/n, 4)\n",
    "print(f'P_один_туз = {P_один_туз}')"
   ]
  },
  {
   "cell_type": "markdown",
   "id": "2aedee32",
   "metadata": {},
   "source": [
    "### 2. На входной двери подъезда установлен кодовый замок, содержащий десять кнопок с цифрами от 0 до 9. Код содержит три цифры, которые нужно нажать одновременно. Какова вероятность того, что человек, не знающий код, откроет дверь с первой попытки?"
   ]
  },
  {
   "cell_type": "code",
   "execution_count": 19,
   "id": "5bb8f73d",
   "metadata": {},
   "outputs": [
    {
     "name": "stdout",
     "output_type": "stream",
     "text": [
      "P = 0.0083\n"
     ]
    }
   ],
   "source": [
    "P=round(1/combinations(10, 3),4)\n",
    "print(f'P = {P}')"
   ]
  },
  {
   "cell_type": "markdown",
   "id": "bd90f8d0",
   "metadata": {},
   "source": [
    "### 3. В ящике имеется 15 деталей, из которых 9 окрашены. Рабочий случайным образом извлекает 3 детали. Какова вероятность того, что все извлеченные детали окрашены?"
   ]
  },
  {
   "cell_type": "code",
   "execution_count": 20,
   "id": "18361d57",
   "metadata": {},
   "outputs": [
    {
     "name": "stdout",
     "output_type": "stream",
     "text": [
      "P = 0.1846\n"
     ]
    }
   ],
   "source": [
    "P=round(combinations(9, 3)/combinations(15, 3), 4)\n",
    "print(f'P = {P}')"
   ]
  },
  {
   "cell_type": "markdown",
   "id": "f732fc2b",
   "metadata": {},
   "source": [
    "### 4. В лотерее 100 билетов. Из них 2 выигрышных. Какова вероятность того, что 2 приобретенных билета окажутся выигрышными?"
   ]
  },
  {
   "cell_type": "code",
   "execution_count": 22,
   "id": "2b9d862b",
   "metadata": {},
   "outputs": [
    {
     "name": "stdout",
     "output_type": "stream",
     "text": [
      "P = 0.0002\n"
     ]
    }
   ],
   "source": [
    "P=round(1/combinations(100,2),4)\n",
    "print(f'P = {P}')"
   ]
  },
  {
   "cell_type": "markdown",
   "id": "93f065dc",
   "metadata": {},
   "source": [
    "## ДЗ 3\n",
    "### 1. Вероятность того, что стрелок попадет в мишень, выстрелив один раз, равна 0.8. Стрелок выстрелил 100 раз. Найдите вероятность того, что стрелок попадет в цель ровно 85 раз."
   ]
  },
  {
   "cell_type": "code",
   "execution_count": null,
   "id": "be81b7e7",
   "metadata": {},
   "outputs": [],
   "source": []
  }
 ],
 "metadata": {
  "kernelspec": {
   "display_name": "Python 3 (ipykernel)",
   "language": "python",
   "name": "python3"
  },
  "language_info": {
   "codemirror_mode": {
    "name": "ipython",
    "version": 3
   },
   "file_extension": ".py",
   "mimetype": "text/x-python",
   "name": "python",
   "nbconvert_exporter": "python",
   "pygments_lexer": "ipython3",
   "version": "3.10.9"
  }
 },
 "nbformat": 4,
 "nbformat_minor": 5
}
