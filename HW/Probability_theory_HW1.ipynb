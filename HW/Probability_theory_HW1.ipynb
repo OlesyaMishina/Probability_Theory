{
 "cells": [
  {
   "cell_type": "markdown",
   "id": "19a630ba",
   "metadata": {},
   "source": [
    "### 1. Из колоды в 52 карты извлекаются случайным образом 4 карты. \n",
    "### a) Найти вероятность того, что все карты – крести."
   ]
  },
  {
   "cell_type": "code",
   "execution_count": 4,
   "id": "bfc75298",
   "metadata": {},
   "outputs": [
    {
     "data": {
      "text/plain": [
       "0.0026"
      ]
     },
     "execution_count": 4,
     "metadata": {},
     "output_type": "execute_result"
    }
   ],
   "source": [
    "P_трефы=round(13/52*12/51*11/50*10/49,4)\n",
    "P_трефы"
   ]
  },
  {
   "cell_type": "markdown",
   "id": "f8b32259",
   "metadata": {},
   "source": [
    "Или используя формулу подсчета количества сочетаний по k элементов из множества n и определение вероятности.\n",
    "P(4трефы)=m/n, m количество благоприятных исходов извлечь 4 трефы из 13 возможных, n все возможные варианты извлечь 4 карты из 52."
   ]
  },
  {
   "cell_type": "code",
   "execution_count": 6,
   "id": "9d3b7ad7",
   "metadata": {},
   "outputs": [],
   "source": [
    "from math import factorial\n",
    "def combinations(n, k):\n",
    "    return factorial(n)/(factorial(k)*factorial(n-k))"
   ]
  },
  {
   "cell_type": "code",
   "execution_count": 8,
   "id": "23b3fdd1",
   "metadata": {},
   "outputs": [
    {
     "name": "stdout",
     "output_type": "stream",
     "text": [
      "m = 715.0\n"
     ]
    }
   ],
   "source": [
    "m=combinations(13, 4)\n",
    "print(f'm = {m}')"
   ]
  },
  {
   "cell_type": "code",
   "execution_count": 9,
   "id": "2bef4673",
   "metadata": {},
   "outputs": [
    {
     "name": "stdout",
     "output_type": "stream",
     "text": [
      "n = 270725.0\n"
     ]
    }
   ],
   "source": [
    "n=combinations(52,4)\n",
    "print(f'n = {n}')"
   ]
  },
  {
   "cell_type": "code",
   "execution_count": 12,
   "id": "939438ce",
   "metadata": {},
   "outputs": [
    {
     "name": "stdout",
     "output_type": "stream",
     "text": [
      " P_трефы= 0.0026\n"
     ]
    }
   ],
   "source": [
    "P_трефы=m/n\n",
    "print(f' P_трефы= {round(P_трефы,4)}')"
   ]
  },
  {
   "cell_type": "markdown",
   "id": "30cf8de5",
   "metadata": {},
   "source": [
    " ### б) Найти вероятность, что среди 4-х карт окажется хотя бы один туз.\n"
   ]
  },
  {
   "cell_type": "markdown",
   "id": "b57f60e7",
   "metadata": {},
   "source": [
    "P_один_туз посчитаем как разницу вероястности всех возможных событий (n) и событый когда туза не попалось (сочетания 4 элементов из 48)."
   ]
  },
  {
   "cell_type": "code",
   "execution_count": 17,
   "id": "0582c6a6",
   "metadata": {},
   "outputs": [
    {
     "name": "stdout",
     "output_type": "stream",
     "text": [
      "P_один_туз = 0.2813\n"
     ]
    }
   ],
   "source": [
    "P_один_туз=round(1 - combinations(48, 4)/n, 4)\n",
    "print(f'P_один_туз = {P_один_туз}')"
   ]
  },
  {
   "cell_type": "markdown",
   "id": "644d228e",
   "metadata": {},
   "source": [
    "### 2. На входной двери подъезда установлен кодовый замок, содержащий десять кнопок с цифрами от 0 до 9. Код содержит три цифры, которые нужно нажать одновременно. Какова вероятность того, что человек, не знающий код, откроет дверь с первой попытки?"
   ]
  },
  {
   "cell_type": "code",
   "execution_count": 19,
   "id": "2513c81f",
   "metadata": {},
   "outputs": [
    {
     "name": "stdout",
     "output_type": "stream",
     "text": [
      "P = 0.0083\n"
     ]
    }
   ],
   "source": [
    "P=round(1/combinations(10, 3),4)\n",
    "print(f'P = {P}')"
   ]
  },
  {
   "cell_type": "markdown",
   "id": "717d8b1b",
   "metadata": {},
   "source": [
    "### 3. В ящике имеется 15 деталей, из которых 9 окрашены. Рабочий случайным образом извлекает 3 детали. Какова вероятность того, что все извлеченные детали окрашены?"
   ]
  },
  {
   "cell_type": "code",
   "execution_count": 20,
   "id": "2d2c500c",
   "metadata": {},
   "outputs": [
    {
     "name": "stdout",
     "output_type": "stream",
     "text": [
      "P = 0.1846\n"
     ]
    }
   ],
   "source": [
    "P=round(combinations(9, 3)/combinations(15, 3), 4)\n",
    "print(f'P = {P}')"
   ]
  },
  {
   "cell_type": "markdown",
   "id": "c7da7bd4",
   "metadata": {},
   "source": [
    "### 4. В лотерее 100 билетов. Из них 2 выигрышных. Какова вероятность того, что 2 приобретенных билета окажутся выигрышными?"
   ]
  },
  {
   "cell_type": "code",
   "execution_count": 22,
   "id": "3bdecb64",
   "metadata": {},
   "outputs": [
    {
     "name": "stdout",
     "output_type": "stream",
     "text": [
      "P = 0.0002\n"
     ]
    }
   ],
   "source": [
    "P=round(1/combinations(100,2),4)\n",
    "print(f'P = {P}')"
   ]
  },
  {
   "cell_type": "markdown",
   "id": "6a33f93e",
   "metadata": {},
   "source": [
    "## ДЗ 3\n",
    "### 1. Вероятность того, что стрелок попадет в мишень, выстрелив один раз, равна 0.8. Стрелок выстрелил 100 раз. Найдите вероятность того, что стрелок попадет в цель ровно 85 раз."
   ]
  },
  {
   "cell_type": "code",
   "execution_count": null,
   "id": "6f77c294",
   "metadata": {},
   "outputs": [],
   "source": [
    "Используем формулу Бернулли"
   ]
  },
  {
   "cell_type": "code",
   "execution_count": 25,
   "id": "d9810656",
   "metadata": {},
   "outputs": [
    {
     "name": "stdout",
     "output_type": "stream",
     "text": [
      "P = 0.0002\n"
     ]
    }
   ],
   "source": [
    "\n",
    "P_85раз=combinations(100, 85)*0.8**85*0.2**15\n",
    "print(f'P = {P}')"
   ]
  },
  {
   "cell_type": "markdown",
   "id": "16f7ef6f",
   "metadata": {},
   "source": [
    "### 2. Вероятность того, что лампочка перегорит в течение первого дня эксплуатации, равна 0.0004. В жилом комплексе после ремонта в один день включили 5000 новых лампочек. Какова вероятность, что ни одна из них не перегорит в первый день? Какова вероятность, что перегорят ровно две?"
   ]
  },
  {
   "cell_type": "code",
   "execution_count": 31,
   "id": "e61e90e3",
   "metadata": {},
   "outputs": [
    {
     "name": "stdout",
     "output_type": "stream",
     "text": [
      "P_0 = 0.1353352832366127\n"
     ]
    }
   ],
   "source": [
    "import math\n",
    "l=5000*0.0004\n",
    "P_0=(l**0/factorial(0))*math.exp(-l)\n",
    "print(f'P_0 = {P_0}')"
   ]
  },
  {
   "cell_type": "code",
   "execution_count": 33,
   "id": "0352cfdf",
   "metadata": {},
   "outputs": [
    {
     "name": "stdout",
     "output_type": "stream",
     "text": [
      "P_2 = 0.2706705664732254\n"
     ]
    }
   ],
   "source": [
    "P_2=(l**2/factorial(2))*math.exp(-l)\n",
    "print(f'P_2 = {P_2}')"
   ]
  },
  {
   "cell_type": "markdown",
   "id": "ee3779e4",
   "metadata": {},
   "source": [
    "### 3. Монету подбросили 144 раза. Какова вероятность, что орел выпадет ровно 70 раз?"
   ]
  },
  {
   "cell_type": "code",
   "execution_count": 34,
   "id": "8361ad8c",
   "metadata": {},
   "outputs": [
    {
     "name": "stdout",
     "output_type": "stream",
     "text": [
      "P_70 = 0.06281178035144776\n"
     ]
    }
   ],
   "source": [
    "P_70=combinations(144, 70)*0.5**70*0.5**(144-70)\n",
    "print(f'P_70 = {P_70}')"
   ]
  },
  {
   "cell_type": "markdown",
   "id": "8fac90d8",
   "metadata": {},
   "source": [
    "### 4. В первом ящике находится 10 мячей, из которых 7 - белые. Во втором ящике - 11 мячей, из которых 9 белых. Из каждого ящика вытаскивают случайным образом по два мяча. Какова вероятность того, что все мячи белые? "
   ]
  },
  {
   "cell_type": "code",
   "execution_count": 35,
   "id": "3121ee1f",
   "metadata": {},
   "outputs": [
    {
     "name": "stdout",
     "output_type": "stream",
     "text": [
      "P = 0.3054545454545454\n"
     ]
    }
   ],
   "source": [
    "P=7/10*6/9*9/11*8/10\n",
    "print(f'P = {P}')"
   ]
  },
  {
   "cell_type": "markdown",
   "id": "d37d6aa5",
   "metadata": {},
   "source": [
    "Какова вероятность того, что ровно два мяча белые? "
   ]
  },
  {
   "cell_type": "code",
   "execution_count": 37,
   "id": "e90965a8",
   "metadata": {},
   "outputs": [
    {
     "name": "stdout",
     "output_type": "stream",
     "text": [
      "P = 0.20484848484848486\n"
     ]
    }
   ],
   "source": [
    "P_1ББ=combinations(7,2)/combinations(10,2)\n",
    "P_2ЧЧ=combinations(2, 2)/combinations(11, 2)\n",
    "P_1ЧЧ=combinations(3,2)/combinations(10, 2)\n",
    "P_2ББ=combinations(9,2)/combinations(11,2)\n",
    "P_1БЧ=combinations(7,1)*combinations(3,1)/combinations(10,2)\n",
    "P_2БЧ=combinations(9,1)*combinations(2,1)/combinations(11,2)\n",
    "P=P_1ББ*P_2ЧЧ+P_1ЧЧ*P_2ББ+P_1БЧ*P_2БЧ\n",
    "print(f'P = {P}')"
   ]
  },
  {
   "cell_type": "markdown",
   "id": "65b621e0",
   "metadata": {},
   "source": [
    "Какова вероятность того, что хотя бы один мяч белый?"
   ]
  },
  {
   "cell_type": "code",
   "execution_count": 38,
   "id": "570114d8",
   "metadata": {},
   "outputs": [
    {
     "name": "stdout",
     "output_type": "stream",
     "text": [
      "P = 0.9987878787878788\n"
     ]
    }
   ],
   "source": [
    "P=1-3/10*2/9*2/11*1/10\n",
    "print(f'P = {P}')"
   ]
  }
 ],
 "metadata": {
  "kernelspec": {
   "display_name": "Python 3 (ipykernel)",
   "language": "python",
   "name": "python3"
  },
  "language_info": {
   "codemirror_mode": {
    "name": "ipython",
    "version": 3
   },
   "file_extension": ".py",
   "mimetype": "text/x-python",
   "name": "python",
   "nbconvert_exporter": "python",
   "pygments_lexer": "ipython3",
   "version": "3.10.9"
  }
 },
 "nbformat": 4,
 "nbformat_minor": 5
}
