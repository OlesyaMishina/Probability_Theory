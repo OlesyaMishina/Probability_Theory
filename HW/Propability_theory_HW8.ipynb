{
 "cells": [
  {
   "cell_type": "markdown",
   "id": "c56cabf3",
   "metadata": {},
   "source": [
    "1. Даны значения величины заработной платы заемщиков банка (zp) и значения их поведенческого кредитного скоринга (ks): zp = [35, 45, 190, 200, 40, 70, 54, 150, 120, 110], ks = [401, 574, 874, 919, 459, 739, 653, 902, 746, 832]. Найдите ковариацию этих двух величин с помощью элементарных действий, а затем с помощью функции cov из numpy Полученные значения должны быть равны. Найдите коэффициент корреляции Пирсона с помощью ковариации и среднеквадратичных отклонений двух признаков, а затем с использованием функций из библиотек numpy и pandas."
   ]
  },
  {
   "cell_type": "code",
   "execution_count": 1,
   "id": "41593cff",
   "metadata": {},
   "outputs": [],
   "source": [
    "import numpy as np\n",
    "zp = np.array([35, 45, 190, 200, 40, 70, 54, 150, 120, 110])\n",
    "ks = np.array([401, 574, 874, 919, 459, 739, 653, 902, 746, 832])"
   ]
  },
  {
   "cell_type": "markdown",
   "id": "8978a191",
   "metadata": {},
   "source": [
    "С помощью элементарных действий:"
   ]
  },
  {
   "cell_type": "code",
   "execution_count": 2,
   "id": "73990459",
   "metadata": {},
   "outputs": [
    {
     "name": "stdout",
     "output_type": "stream",
     "text": [
      " Ковариация величин zp и ks равна 9157.84\n"
     ]
    }
   ],
   "source": [
    "M_xy=np.mean(zp*ks)\n",
    "M_x=np.mean(zp)\n",
    "M_y=np.mean(ks)\n",
    "cov_xy=M_xy-M_x*M_y\n",
    "print(f' Ковариация величин zp и ks равна {round(cov_xy, 3)}')"
   ]
  },
  {
   "cell_type": "markdown",
   "id": "6850a4f7",
   "metadata": {},
   "source": [
    "С помощью функции:"
   ]
  },
  {
   "cell_type": "code",
   "execution_count": 3,
   "id": "dddce1e3",
   "metadata": {},
   "outputs": [
    {
     "name": "stdout",
     "output_type": "stream",
     "text": [
      " Ковариация (смещенная) величин zp и ks равна 9157.84\n"
     ]
    }
   ],
   "source": [
    "print(f' Ковариация (смещенная) величин zp и ks равна {np.cov(zp, ks, ddof=0)[0, 1]}')"
   ]
  },
  {
   "cell_type": "markdown",
   "id": "4b149a8e",
   "metadata": {},
   "source": [
    "Коэффициент корреляции Пирсона с помощью ковариации и среднеквадратичных отклонений:"
   ]
  },
  {
   "cell_type": "code",
   "execution_count": 4,
   "id": "e5c1a12e",
   "metadata": {},
   "outputs": [
    {
     "name": "stdout",
     "output_type": "stream",
     "text": [
      "Коэффициент корреляции Пирсона равен 0.8874900920739158\n"
     ]
    }
   ],
   "source": [
    "cor_pirsona=cov_xy/(np.std(zp, ddof=0)*np.std(ks, ddof=0))\n",
    "print(f'Коэффициент корреляции Пирсона равен {cor_pirsona}')"
   ]
  },
  {
   "cell_type": "markdown",
   "id": "fb34c8b5",
   "metadata": {},
   "source": [
    "C использованием функций из библиотек numpy:"
   ]
  },
  {
   "cell_type": "code",
   "execution_count": 5,
   "id": "2cb55fcc",
   "metadata": {},
   "outputs": [
    {
     "name": "stdout",
     "output_type": "stream",
     "text": [
      "Коэффициент корреляции Пирсона из библиотек numpy равен 0.8874900920739162\n"
     ]
    }
   ],
   "source": [
    "cor_numpy=np.corrcoef(zp, ks)[0, 1]\n",
    "print(f'Коэффициент корреляции Пирсона из библиотек numpy равен {cor_numpy}')"
   ]
  },
  {
   "cell_type": "markdown",
   "id": "33f9042a",
   "metadata": {},
   "source": [
    "C использованием функций из библиотек  pandas:"
   ]
  },
  {
   "cell_type": "code",
   "execution_count": 6,
   "id": "0b776c5e",
   "metadata": {},
   "outputs": [
    {
     "name": "stdout",
     "output_type": "stream",
     "text": [
      "Коэффициент корреляции Пирсона из библиотек pandas равен 0.8874900920739162\n"
     ]
    }
   ],
   "source": [
    "import pandas as pd\n",
    "corr_pandas = pd.Series(zp).corr(pd.Series(ks), method='pearson')\n",
    "print(f'Коэффициент корреляции Пирсона из библиотек pandas равен {cor_numpy}')"
   ]
  },
  {
   "cell_type": "code",
   "execution_count": 9,
   "id": "5ca3b277",
   "metadata": {},
   "outputs": [
    {
     "data": {
      "image/png": "[encoded data removed]",
      "text/plain": [
       "<Figure size 640x480 with 1 Axes>"
      ]
     },
     "metadata": {},
     "output_type": "display_data"
    }
   ],
   "source": [
    "import matplotlib.pyplot as plt\n",
    "plt.scatter(zp,ks)\n",
    "plt.xlabel('zp')\n",
    "plt.ylabel('ks')\n",
    "plt.show()"
   ]
  },
  {
   "cell_type": "markdown",
   "id": "b624b139",
   "metadata": {},
   "source": [
    "2. Измерены значения IQ выборки студентов, обучающихся в местных технических вузах: 131, 125, 115, 122, 131, 115, 107, 99, 125, 111. Известно, что в генеральной совокупности IQ распределен нормально. Найдите доверительный интервал для математического ожидания с надежностью 0.95."
   ]
  },
  {
   "cell_type": "code",
   "execution_count": 10,
   "id": "c9b690e6",
   "metadata": {},
   "outputs": [
    {
     "name": "stdout",
     "output_type": "stream",
     "text": [
      "Доверительный интервал для мат ожидания IQ с надежностью 0,95 (110.5561, 125.6439)\n"
     ]
    }
   ],
   "source": [
    "import scipy.stats as stats\n",
    "x=np.array([131, 125, 115, 122, 131, 115, 107, 99, 125, 111])\n",
    "alpha=0.05\n",
    "M=np.mean(x)\n",
    "t_table=stats.t.ppf(1-alpha/2, len(x)-1)\n",
    "std=np.std(x, ddof=1)\n",
    "se=std/(len(x)**0.5)\n",
    "low=round(M-t_table*se, 4)\n",
    "up=round(M+t_table*se,4)\n",
    "print(f'Доверительный интервал для мат ожидания IQ с надежностью 0,95 {low, up}')"
   ]
  },
  {
   "cell_type": "markdown",
   "id": "78b99937",
   "metadata": {},
   "source": [
    "3. Известно, что рост футболистов в сборной распределен нормально с дисперсией генеральной совокупности, равной 25 кв.см. Объем выборки равен 27, среднее выборочное составляет 174.2. Найдите доверительный интервал для математического ожидания с надежностью 0.95."
   ]
  },
  {
   "cell_type": "code",
   "execution_count": 26,
   "id": "3fa07cb3",
   "metadata": {},
   "outputs": [
    {
     "name": "stdout",
     "output_type": "stream",
     "text": [
      "Доверительный интервал для мат ожидания роста с надежностью 0,95 (172.314, 176.086)\n"
     ]
    }
   ],
   "source": [
    "n=27\n",
    "D=25\n",
    "M=174.2\n",
    "alpha=0.05\n",
    "z_table=stats.norm.ppf(1-alpha/2)\n",
    "t=stats.t.ppf(1-alpha/2, n-1)\n",
    "se=(D/n)**0.5\n",
    "print(f'Доверительный интервал для мат ожидания роста с надежностью 0,95 {round(M-z_table*se, 4), round(M+z_table*se, 4)}')"
   ]
  }
 ],
 "metadata": {
  "kernelspec": {
   "display_name": "Python 3 (ipykernel)",
   "language": "python",
   "name": "python3"
  },
  "language_info": {
   "codemirror_mode": {
    "name": "ipython",
    "version": 3
   },
   "file_extension": ".py",
   "mimetype": "text/x-python",
   "name": "python",
   "nbconvert_exporter": "python",
   "pygments_lexer": "ipython3",
   "version": "3.10.9"
  }
 },
 "nbformat": 4,
 "nbformat_minor": 5
}
