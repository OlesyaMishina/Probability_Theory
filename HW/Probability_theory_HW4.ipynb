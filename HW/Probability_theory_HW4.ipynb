{
 "cells": [
  {
   "cell_type": "code",
   "execution_count": 1,
   "id": "7c19da4a",
   "metadata": {},
   "outputs": [],
   "source": [
    "from scipy import stats"
   ]
  },
  {
   "cell_type": "markdown",
   "id": "05e51a68",
   "metadata": {},
   "source": [
    "1) Случайная непрерывная величина A имеет равномерное распределение на промежутке (200, 800].\n",
    "Найдите ее среднее значение и дисперсию."
   ]
  },
  {
   "cell_type": "code",
   "execution_count": 6,
   "id": "245fd13f",
   "metadata": {},
   "outputs": [
    {
     "name": "stdout",
     "output_type": "stream",
     "text": [
      "Среднее значение 500.0\n",
      "Дисперсия 30000.0\n"
     ]
    }
   ],
   "source": [
    "a=200\n",
    "b=800\n",
    "print(f'Среднее значение {(a+b)/2}\\nДисперсия {(b-a)**2/12}')"
   ]
  },
  {
   "cell_type": "markdown",
   "id": "8c0de606",
   "metadata": {},
   "source": [
    "2) О случайной непрерывной равномерно распределенной величине B известно, что ее дисперсия равна 0.2.\n",
    "Можно ли найти правую границу величины B и ее среднее значение зная, что левая граница равна 0.5?\n",
    "Если да, найдите ее."
   ]
  },
  {
   "cell_type": "code",
   "execution_count": 10,
   "id": "7601f27f",
   "metadata": {},
   "outputs": [
    {
     "name": "stdout",
     "output_type": "stream",
     "text": [
      "Правая граница b=2.049\n",
      "Среднее значение равно 1.2745\n"
     ]
    }
   ],
   "source": [
    "a=0.5\n",
    "D=0.2\n",
    "b=round((12*D)**0.5+a,3)\n",
    "print(f'Правая граница b={b}')\n",
    "print(f'Среднее значение равно {(a+b)/2}')"
   ]
  },
  {
   "cell_type": "markdown",
   "id": "d6511416",
   "metadata": {},
   "source": [
    "3) Непрерывная случайная величина X распределена нормально и задана плотностью распределения\n",
    "f(x) = (1 / (4 * sqrt(2pi))) * exp((-(x+2)**2) / 32)\n",
    "\n",
    "Найдите:\n",
    "\n",
    "а). M(X)= -2\n",
    "\n",
    "б). D(X)= 16\n",
    "\n",
    "в). std(X) (среднее квадратичное отклонение)= 4"
   ]
  },
  {
   "cell_type": "markdown",
   "id": "f6c10834",
   "metadata": {},
   "source": [
    "4) Рост взрослого населения города X имеет нормальное распределение.\n",
    "Причем, средний рост равен 174 см, а среднее квадратичное отклонение равно 8 см. Вероятность того, что случайным образом выбранный взрослый человек имеет рост"
   ]
  },
  {
   "cell_type": "code",
   "execution_count": 23,
   "id": "c0a9ea3b",
   "metadata": {},
   "outputs": [
    {
     "name": "stdout",
     "output_type": "stream",
     "text": [
      "а) Вероятность роста больше 182 см равна 0.1587\n"
     ]
    }
   ],
   "source": [
    "print(f'а) Вероятность роста больше 182 см равна {round(1-stats.norm.cdf(182, 174, 8),4)}')"
   ]
  },
  {
   "cell_type": "code",
   "execution_count": 24,
   "id": "e79af1b6",
   "metadata": {},
   "outputs": [
    {
     "name": "stdout",
     "output_type": "stream",
     "text": [
      "б) Вероятность роста больше 190 см равна 0.0228\n"
     ]
    }
   ],
   "source": [
    "print(f'б) Вероятность роста больше 190 см равна {round(1-stats.norm.cdf(190, 174, 8),4)}')"
   ]
  },
  {
   "cell_type": "code",
   "execution_count": 29,
   "id": "6ac6975a",
   "metadata": {},
   "outputs": [
    {
     "name": "stdout",
     "output_type": "stream",
     "text": [
      "в) Вероятность роста от 166 см до 190 см равна 0.8186\n"
     ]
    }
   ],
   "source": [
    "print(f'в) Вероятность роста от 166 см до 190 см равна {round(stats.norm.cdf(190, 174, 8)-stats.norm.cdf(166, 174, 8),4)}')"
   ]
  },
  {
   "cell_type": "code",
   "execution_count": 30,
   "id": "31b9bce3",
   "metadata": {},
   "outputs": [
    {
     "name": "stdout",
     "output_type": "stream",
     "text": [
      "г) Вероятность роста от 166 см до 182 см равна 0.6827\n"
     ]
    }
   ],
   "source": [
    "print(f'г) Вероятность роста от 166 см до 182 см равна {round(stats.norm.cdf(182, 174, 8)-stats.norm.cdf(166, 174, 8),4)}')"
   ]
  },
  {
   "cell_type": "code",
   "execution_count": 31,
   "id": "0bcdaafe",
   "metadata": {},
   "outputs": [
    {
     "name": "stdout",
     "output_type": "stream",
     "text": [
      "д)Вероятность роста от 158 см до 190 см равна 0.9545\n"
     ]
    }
   ],
   "source": [
    "print(f'д)Вероятность роста от 158 см до 190 см равна {round(stats.norm.cdf(190, 174, 8)-stats.norm.cdf(158, 174, 8),4)}')"
   ]
  },
  {
   "cell_type": "code",
   "execution_count": 32,
   "id": "3fcb09dd",
   "metadata": {},
   "outputs": [
    {
     "name": "stdout",
     "output_type": "stream",
     "text": [
      "е) Вероятность роста не выше 150 см или не ниже 190 см равна 0.0241\n"
     ]
    }
   ],
   "source": [
    "print(f'е) Вероятность роста не выше 150 см или не ниже 190 см равна {round(1-stats.norm.cdf(190, 174, 8)+stats.norm.cdf(150, 174, 8),4)}')"
   ]
  },
  {
   "cell_type": "code",
   "execution_count": 34,
   "id": "a57ee057",
   "metadata": {},
   "outputs": [
    {
     "name": "stdout",
     "output_type": "stream",
     "text": [
      "ё) Вероятность роста не выше 150 см или не ниже 198 см равна 0.0027\n"
     ]
    }
   ],
   "source": [
    "print(f'ё) Вероятность роста не выше 150 см или не ниже 198 см равна {round(1-stats.norm.cdf(198, 174, 8)+stats.norm.cdf(150, 174, 8),4)}')"
   ]
  },
  {
   "cell_type": "code",
   "execution_count": 35,
   "id": "0db9190e",
   "metadata": {},
   "outputs": [
    {
     "name": "stdout",
     "output_type": "stream",
     "text": [
      "ж) Вероятность роста ниже 166 см равна 0.1587\n"
     ]
    }
   ],
   "source": [
    "print(f'ж) Вероятность роста ниже 166 см равна {round(stats.norm.cdf(166, 174, 8),4)}')"
   ]
  },
  {
   "cell_type": "markdown",
   "id": "21e365ac",
   "metadata": {},
   "source": [
    "5) На сколько сигм (средних квадратичных отклонений) отклоняется рост человека, равный 190 см, от математического ожидания роста в популяции, в которой M(X) = 178 см и D(X) = 25 кв.см?"
   ]
  },
  {
   "cell_type": "code",
   "execution_count": 37,
   "id": "fea96394",
   "metadata": {},
   "outputs": [
    {
     "name": "stdout",
     "output_type": "stream",
     "text": [
      "Рост 190 см отклоняется от среднего роста на 2.4 средних квадратичных отклонений.\n"
     ]
    }
   ],
   "source": [
    "x=190\n",
    "M=178\n",
    "D=25\n",
    "print(f'Рост 190 см отклоняется от среднего роста на {(x-M)/D**0.5} средних квадратичных отклонений.')"
   ]
  },
  {
   "cell_type": "code",
   "execution_count": null,
   "id": "4c3a3600",
   "metadata": {},
   "outputs": [],
   "source": []
  }
 ],
 "metadata": {
  "kernelspec": {
   "display_name": "Python 3 (ipykernel)",
   "language": "python",
   "name": "python3"
  },
  "language_info": {
   "codemirror_mode": {
    "name": "ipython",
    "version": 3
   },
   "file_extension": ".py",
   "mimetype": "text/x-python",
   "name": "python",
   "nbconvert_exporter": "python",
   "pygments_lexer": "ipython3",
   "version": "3.10.9"
  }
 },
 "nbformat": 4,
 "nbformat_minor": 5
}
