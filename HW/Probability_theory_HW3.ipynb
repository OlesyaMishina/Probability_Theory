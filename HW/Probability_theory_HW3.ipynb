{
 "cells": [
  {
   "cell_type": "markdown",
   "id": "6270a5e7",
   "metadata": {},
   "source": [
    "### 1.Даны значения зарплат из выборки выпускников: 100, 80, 75, 77, 89, 33, 45, 25, 65, 17, 30, 24, 57, 55, 70, 75, 65, 84, 90, 150. Посчитать (желательно без использования статистических методов наподобие std, var, mean) среднее арифметическое, среднее квадратичное отклонение, смещенную и несмещенную оценки дисперсий для данной выборки."
   ]
  },
  {
   "cell_type": "code",
   "execution_count": 6,
   "id": "439eae37",
   "metadata": {},
   "outputs": [
    {
     "name": "stdout",
     "output_type": "stream",
     "text": [
      "Математическое ожидание:  73.1429\n"
     ]
    }
   ],
   "source": [
    "salary = [100, 80, 75, 77, 89, 33, 45, 25, 65, 17, 30, 230, 24, 57, 55, 70, 75, 65, 84, 90, 150]\n",
    "sum=0\n",
    "for item in salary:\n",
    "    sum=sum+item\n",
    "mathExp=sum/len(salary)  \n",
    "print(\"Математическое ожидание: \", round(mathExp, 4))\n"
   ]
  },
  {
   "cell_type": "code",
   "execution_count": 8,
   "id": "7423885a",
   "metadata": {},
   "outputs": [
    {
     "name": "stdout",
     "output_type": "stream",
     "text": [
      "Cреднее квадратичное отклонение:  46.2069\n"
     ]
    }
   ],
   "source": [
    "var=0\n",
    "for item in salary:\n",
    "    var=var+(item-mathExp)**2\n",
    "stdDev=(var/len(salary)) **0.5\n",
    "print(\"Cреднее квадратичное отклонение: \", round(stdDev, 4))"
   ]
  },
  {
   "cell_type": "code",
   "execution_count": 10,
   "id": "93cb5790",
   "metadata": {},
   "outputs": [
    {
     "name": "stdout",
     "output_type": "stream",
     "text": [
      "Cмещенная дисперсия:  2135.0748\n"
     ]
    }
   ],
   "source": [
    "print(\"Cмещенная дисперсия: \", round(var/len(salary), 4))"
   ]
  },
  {
   "cell_type": "code",
   "execution_count": 12,
   "id": "b0a62ad7",
   "metadata": {},
   "outputs": [
    {
     "name": "stdout",
     "output_type": "stream",
     "text": [
      "Несмещенная дисперсия:  2241.8286\n"
     ]
    }
   ],
   "source": [
    "print(\"Несмещенная дисперсия: \", round(var/(len(salary)-1), 4))"
   ]
  },
  {
   "cell_type": "markdown",
   "id": "bc6b0358",
   "metadata": {},
   "source": [
    "### 2. В первом ящике находится 8 мячей, из которых 5 - белые. Во втором ящике - 12 мячей, из которых 5 белых. Из первого ящика вытаскивают случайным образом два мяча, из второго - 4. Какова вероятность того, что 3 мяча белые?"
   ]
  },
  {
   "cell_type": "code",
   "execution_count": 14,
   "id": "bf78cda6",
   "metadata": {},
   "outputs": [],
   "source": [
    "from math import factorial\n",
    "def combinations(n, k):\n",
    "    return factorial(n)/(factorial(k)*factorial(n-k))"
   ]
  },
  {
   "cell_type": "markdown",
   "id": "c07ecb05",
   "metadata": {},
   "source": [
    "Вероятность варианта: 1 ящик - белый, белый, 2 ящик - белый, 3 черный."
   ]
  },
  {
   "cell_type": "code",
   "execution_count": 15,
   "id": "501ea117",
   "metadata": {},
   "outputs": [],
   "source": [
    "P_1ББ2БЧЧЧ=combinations(5,2)/combinations(8, 2)*combinations(5, 1)*combinations(7,3)/combinations(12,4)"
   ]
  },
  {
   "cell_type": "markdown",
   "id": "24f2f341",
   "metadata": {},
   "source": [
    "Вероятность варианта: 1 ящик - белый, черный, 2 ящик - 2 белый, 2 черный."
   ]
  },
  {
   "cell_type": "code",
   "execution_count": 18,
   "id": "ddd40d56",
   "metadata": {},
   "outputs": [],
   "source": [
    "P_1БЧ2БЧЧЧ=combinations(5,1)*combinations(3,1)/combinations(8,2)*combinations(5,2)*combinations(7,2)/combinations(12,4)"
   ]
  },
  {
   "cell_type": "markdown",
   "id": "d54158eb",
   "metadata": {},
   "source": [
    "Вероятность варианта: 1 ящик - 2 черный, 2 ящик - 3 белый, 1 черный."
   ]
  },
  {
   "cell_type": "code",
   "execution_count": 21,
   "id": "f46daf5a",
   "metadata": {},
   "outputs": [
    {
     "name": "stdout",
     "output_type": "stream",
     "text": [
      "Вероятность 0.369\n"
     ]
    }
   ],
   "source": [
    "P_1ЧЧ2БББЧ=combinations(3,2)/combinations(8,2)*combinations(5,3)*combinations(7,1)/combinations(12,4)\n",
    "P=P_1ББ2БЧЧЧ+P_1БЧ2БЧЧЧ+P_1ЧЧ2БББЧ\n",
    "print(\"Вероятность\", round(P, 3))\n"
   ]
  },
  {
   "cell_type": "markdown",
   "id": "7557e787",
   "metadata": {},
   "source": [
    "### 3.На соревновании по биатлону один из трех спортсменов стреляет и попадает в мишень. Вероятность попадания для первого спортсмена равна 0.9, для второго — 0.8, для третьего — 0.6. Найти вероятность того, что выстрел произведен: a). первым спортсменом б). вторым спортсменом в). третьим спортсменом."
   ]
  },
  {
   "cell_type": "markdown",
   "id": "ecf591ce",
   "metadata": {},
   "source": [
    "Воспользуемся формулой Байеса:"
   ]
  },
  {
   "cell_type": "code",
   "execution_count": 25,
   "id": "46dd2d2d",
   "metadata": {},
   "outputs": [
    {
     "name": "stdout",
     "output_type": "stream",
     "text": [
      "Вероятность попадания первым спортсменом 0.391\n",
      "Вероятность попадания вторым спортсменом 0.348\n",
      "Вероятность попадания третьим спортсменом 0.261\n"
     ]
    }
   ],
   "source": [
    "p=1/3\n",
    "p1=0.9\n",
    "p2=0.8\n",
    "p3=0.6\n",
    "pA=p1*p+p2*p+p3*p\n",
    "print(\"Вероятность попадания первым спортсменом\", round(p1*p/pA,3))\n",
    "print(\"Вероятность попадания вторым спортсменом\", round(p2*p/pA,3))\n",
    "print(\"Вероятность попадания третьим спортсменом\", round(p3*p/pA,3))"
   ]
  },
  {
   "cell_type": "markdown",
   "id": "4ff0f636",
   "metadata": {},
   "source": [
    "### 4.В университет на факультеты A и B поступило равное количество студентов, а на факультет C студентов поступило столько же, сколько на A и B вместе. Вероятность того, что студент факультета A сдаст первую сессию, равна 0.8. Для студента факультета B эта вероятность равна 0.7, а для студента факультета C - 0.9. Студент сдал первую сессию. Какова вероятность, что он учится: a). на факультете A б). на факультете B в). на факультете C?"
   ]
  },
  {
   "cell_type": "code",
   "execution_count": 26,
   "id": "394159ac",
   "metadata": {},
   "outputs": [
    {
     "name": "stdout",
     "output_type": "stream",
     "text": [
      "Вероятность, что сдавший сессию студент учится на факультете A: 0.242\n",
      "Вероятность, что сдавший сессию студент учится на факультете B: 0.212\n",
      "Вероятность, что сдавший сессию студент учится на факультете C: 0.545\n"
     ]
    }
   ],
   "source": [
    "p_A=1/4\n",
    "p_B=1/4\n",
    "p_C=1/2\n",
    "\n",
    "pA=0.8\n",
    "pB=0.7\n",
    "pC=0.9\n",
    "\n",
    "p=p_A*pA+p_B*pB+p_C*pC\n",
    "print(\"Вероятность, что сдавший сессию студент учится на факультете A:\", round(pA*p_A/p,3))\n",
    "print(\"Вероятность, что сдавший сессию студент учится на факультете B:\", round(pB*p_B/p,3))\n",
    "print(\"Вероятность, что сдавший сессию студент учится на факультете C:\", round(pC*p_C/p,3))"
   ]
  },
  {
   "cell_type": "markdown",
   "id": "571002d1",
   "metadata": {},
   "source": [
    "### 5.Устройство состоит из трех деталей. Для первой детали вероятность выйти из строя в первый месяц равна 0.1, для второй - 0.2, для третьей - 0.25. Какова вероятность того, что в первый месяц выйдут из строя: а). все детали б). только две детали в). хотя бы одна деталь г). от одной до двух деталей?"
   ]
  },
  {
   "cell_type": "code",
   "execution_count": 49,
   "id": "e2982fc0",
   "metadata": {},
   "outputs": [
    {
     "name": "stdout",
     "output_type": "stream",
     "text": [
      "Вероятность, что выйдут из строя все детали, %: 0.5\n",
      "Вероятность, что выйдут из строя 2 детали, %: 8.0\n",
      "Вероятность, что выйдут из строя хотя бы 1 деталь, %: 46.0\n",
      "Вероятность, что выйдут из строя 1-2 детали, %: 45.5\n"
     ]
    }
   ],
   "source": [
    "p1=0.1\n",
    "p2=0.2\n",
    "p3=0.25\n",
    "p_1det=p1*(1-p2)*(1-p3)+(1-p1)*(1-p2)*p3+(1-p1)*p2*(1-p3)\n",
    "p_2det=(p1*p2*(1-p3)+p1*(1-p2)*p3+(1-p1)*p2*p3)\n",
    "p_3det=p1*p2*p3\n",
    "\n",
    "print(\"Вероятность, что выйдут из строя все детали, %:\", round(p_3det*100,1))\n",
    "print(\"Вероятность, что выйдут из строя 2 детали, %:\", round(p_2det*100, 1))\n",
    "print(\"Вероятность, что выйдут из строя хотя бы 1 деталь, %:\", round((p_1det+p_2det+p_3det)*100, 1))\n",
    "print(\"Вероятность, что выйдут из строя 1-2 детали, %:\", round((p_1det+p_2det)*100, 1))"
   ]
  },
  {
   "cell_type": "code",
   "execution_count": null,
   "id": "ac0e10aa",
   "metadata": {},
   "outputs": [],
   "source": []
  }
 ],
 "metadata": {
  "kernelspec": {
   "display_name": "Python 3 (ipykernel)",
   "language": "python",
   "name": "python3"
  },
  "language_info": {
   "codemirror_mode": {
    "name": "ipython",
    "version": 3
   },
   "file_extension": ".py",
   "mimetype": "text/x-python",
   "name": "python",
   "nbconvert_exporter": "python",
   "pygments_lexer": "ipython3",
   "version": "3.10.9"
  }
 },
 "nbformat": 4,
 "nbformat_minor": 5
}
