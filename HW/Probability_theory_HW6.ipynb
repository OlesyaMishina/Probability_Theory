{
 "cells": [
  {
   "cell_type": "markdown",
   "id": "af8f7b4a",
   "metadata": {},
   "source": [
    "1) Известно, что генеральная совокупность распределена нормально со средним квадратическим отклонением, равным 16.\n",
    "Найти доверительный интервал для оценки математического ожидания a с надежностью 0.95, если выборочная средняя M = 80, а объем выборки n = 256."
   ]
  },
  {
   "cell_type": "code",
   "execution_count": 21,
   "id": "d75276b2",
   "metadata": {},
   "outputs": [
    {
     "name": "stdout",
     "output_type": "stream",
     "text": [
      "Доверительный интервал мат ожидания с надежностью 0,95 [(78.04, 81.96)]\n"
     ]
    }
   ],
   "source": [
    "from scipy import stats \n",
    "sigma=16\n",
    "alpha=0.95\n",
    "M=80\n",
    "n=256\n",
    "se=sigma/256**0.5\n",
    "z_table=stats.norm.ppf(1-(1-alpha)/2)\n",
    "print(f'Доверительный интервал мат ожидания с надежностью 0,95 {round(M-z_table*se, 4), round(M+z_table*se,4)}')"
   ]
  },
  {
   "cell_type": "markdown",
   "id": "63d9a2b1",
   "metadata": {},
   "source": [
    "2) В результате 10 независимых измерений некоторой величины X, выполненных с одинаковой точностью, получены опытные данные:\n",
    "\n",
    "6.9, 6.1, 6.2, 6.8, 7.5, 6.3, 6.4, 6.9, 6.7, 6.1\n",
    "\n",
    "Предполагая, что результаты измерений подчинены нормальному закону распределения вероятностей, оценить истинное значение величины X при помощи доверительного интервала, покрывающего это значение с доверительной вероятностью 0,95."
   ]
  },
  {
   "cell_type": "code",
   "execution_count": 33,
   "id": "55389f3b",
   "metadata": {},
   "outputs": [
    {
     "name": "stdout",
     "output_type": "stream",
     "text": [
      "Доверительный интервал величины x с надежностью 0,95 (6.2675, 6.9125)\n"
     ]
    }
   ],
   "source": [
    "import numpy as np\n",
    "x=np.array([6.9, 6.1, 6.2, 6.8, 7.5, 6.3, 6.4, 6.9, 6.7, 6.1])\n",
    "n=10\n",
    "alpha=0.95\n",
    "M=np.mean(x)\n",
    "std=np.std(x, ddof=1)\n",
    "t_table=stats.t.ppf(1-(1-alpha)/2, n-1)\n",
    "se=std/n**0.5\n",
    "print(f'Доверительный интервал величины x с надежностью 0,95 {round(M-t_table*se, 4), round(M+t_table*se,4)}')"
   ]
  },
  {
   "cell_type": "markdown",
   "id": "f7e626dc",
   "metadata": {},
   "source": [
    "3. \n",
    "Рост дочерей 175, 167, 154, 174, 178, 148, 160, 167, 169, 170\n",
    "\n",
    "Рост матерей  178, 165, 165, 173, 168, 155, 160, 164, 178, 175\n",
    "Используя эти данные построить 95% доверительный интервал для разности среднего роста родителей и детей."
   ]
  },
  {
   "cell_type": "code",
   "execution_count": 37,
   "id": "87e1df75",
   "metadata": {},
   "outputs": [
    {
     "name": "stdout",
     "output_type": "stream",
     "text": [
      "168.1 166.2\n",
      "Доверительный интервал для разности среднего роста с надежностью 0,95 (-6.2684, 10.0684)\n"
     ]
    }
   ],
   "source": [
    "moters=np.array([178, 165, 165, 173, 168, 155, 160, 164, 178, 175])\n",
    "daughters=np.array([175, 167, 154, 174, 178, 148, 160, 167, 169, 170])\n",
    "n_m=len(moters)\n",
    "n_d=len(daughters)\n",
    "alpha=0.95\n",
    "M_m=np.mean(moters)\n",
    "M_d=np.mean(daughters)\n",
    "delta=M_m-M_d\n",
    "std_m=np.std(moters, ddof=1)\n",
    "std_d=np.std(daughters, ddof=1)\n",
    "t_table=stats.t.ppf(1-(1-alpha)/2, n_m+n_d-2)\n",
    "se=(std_m**2/n_m+std_d**2/n_d)**0.5\n",
    "print(f'Доверительный интервал для разности среднего роста с надежностью 0,95 {round(delta-t_table*se, 4), round(delta+t_table*se,4)}')"
   ]
  },
  {
   "cell_type": "markdown",
   "id": "415e153b",
   "metadata": {},
   "source": [
    "Статистических различий в росте родителей и детей не обнаружено с надежностью 0,95."
   ]
  }
 ],
 "metadata": {
  "kernelspec": {
   "display_name": "Python 3 (ipykernel)",
   "language": "python",
   "name": "python3"
  },
  "language_info": {
   "codemirror_mode": {
    "name": "ipython",
    "version": 3
   },
   "file_extension": ".py",
   "mimetype": "text/x-python",
   "name": "python",
   "nbconvert_exporter": "python",
   "pygments_lexer": "ipython3",
   "version": "3.10.9"
  }
 },
 "nbformat": 4,
 "nbformat_minor": 5
}
