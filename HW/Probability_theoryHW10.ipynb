{
 "cells": [
  {
   "cell_type": "markdown",
   "id": "49eb38bc",
   "metadata": {},
   "source": [
    "Провести дисперсионный анализ для определения того, есть ли различия среднего роста среди взрослых футболистов, хоккеистов и штангистов. Даны значения роста в трех группах случайно выбранных спортсменов: Футболисты: 173, 175, 180, 178, 177, 185, 183, 182. Хоккеисты: 177, 179, 180, 188, 177, 172, 171, 184, 180. Штангисты: 172, 173, 169, 177, 166, 180, 178, 177, 172, 166, 170. Данная промежуточная аттестация оценивается по системе \"зачет\" / \"не зачет\". \"Зачет\" ставится, если Слушатель успешно выполнил задание. \"Незачет\" ставится, если Слушатель не выполнил задание. Критерии оценивания: 1 - Слушатель провел дисперсионный анализ для определения того, есть ли различия среднего роста среди взрослых футболистов, хоккеистов и штангистов."
   ]
  },
  {
   "cell_type": "code",
   "execution_count": 23,
   "id": "4750c95b",
   "metadata": {},
   "outputs": [],
   "source": [
    "import numpy as np\n",
    "import scipy.stats as stats\n",
    "x1=np.array([173, 175, 180, 178, 177, 185, 183, 182])\n",
    "x2=np.array([177, 179, 180, 188, 177, 172, 171, 184, 180])\n",
    "x3=np.array([172, 173, 169, 177, 166, 180, 178, 177, 172, 166, 170])"
   ]
  },
  {
   "cell_type": "markdown",
   "id": "5e7d086c",
   "metadata": {},
   "source": [
    "Проверяем нормальность:\n",
    "    "
   ]
  },
  {
   "cell_type": "code",
   "execution_count": 24,
   "id": "76c18da0",
   "metadata": {},
   "outputs": [
    {
     "name": "stdout",
     "output_type": "stream",
     "text": [
      "ShapiroResult(statistic=0.9775082468986511, pvalue=0.9495404362678528)\n",
      "ShapiroResult(statistic=0.9579196572303772, pvalue=0.7763139009475708)\n",
      "ShapiroResult(statistic=0.9386808276176453, pvalue=0.5051165223121643)\n",
      "LeveneResult(statistic=0.0836323510368345, pvalue=0.920025568103872)\n"
     ]
    }
   ],
   "source": [
    "print(stats.shapiro(x1)) #Проверяем нормальность\n",
    "print(stats.shapiro(x2))\n",
    "print(stats.shapiro(x3))\n",
    "print(stats.levene(x1, x2, x3)) #Проверяем гомогенность дисперсий"
   ]
  },
  {
   "cell_type": "markdown",
   "id": "eb2914c0",
   "metadata": {},
   "source": [
    "Данные распределены нормально, длина выборок отдичается незначительно, дисперсии гомогенны. Переходим к дисперсионному анализу:"
   ]
  },
  {
   "cell_type": "code",
   "execution_count": 25,
   "id": "9a129a58",
   "metadata": {},
   "outputs": [
    {
     "name": "stdout",
     "output_type": "stream",
     "text": [
      "F_onewayResult(statistic=5.500053450812596, pvalue=0.010482206918698694)\n"
     ]
    }
   ],
   "source": [
    "print(stats.f_oneway(x1, x2, x3))"
   ]
  },
  {
   "cell_type": "markdown",
   "id": "88334460",
   "metadata": {},
   "source": [
    "Так как pvalue<0,05 то статистические различия есть. Определим, между какими группами они присутствуют.\n",
    "Используем критерий Тьюки. Сначала при помощи stats.tukey_hsd:"
   ]
  },
  {
   "cell_type": "code",
   "execution_count": 33,
   "id": "d90c7d74",
   "metadata": {},
   "outputs": [
    {
     "name": "stdout",
     "output_type": "stream",
     "text": [
      "Tukey's HSD Pairwise Group Comparisons (95.0% Confidence Interval)\n",
      "Comparison  Statistic  p-value  Lower CI  Upper CI\n",
      " (0 - 1)      0.458     0.979    -5.357     6.273\n",
      " (0 - 2)      6.398     0.022     0.837    11.958\n",
      " (1 - 0)     -0.458     0.979    -6.273     5.357\n",
      " (1 - 2)      5.939     0.028     0.561    11.318\n",
      " (2 - 0)     -6.398     0.022   -11.958    -0.837\n",
      " (2 - 1)     -5.939     0.028   -11.318    -0.561\n",
      "\n"
     ]
    }
   ],
   "source": [
    "\n",
    "print(stats.tukey_hsd(x1, x2, x3))"
   ]
  },
  {
   "cell_type": "code",
   "execution_count": 34,
   "id": "d5cb65c9",
   "metadata": {},
   "outputs": [
    {
     "ename": "SyntaxError",
     "evalue": "invalid syntax (2736442590.py, line 1)",
     "output_type": "error",
     "traceback": [
      "\u001b[1;36m  Cell \u001b[1;32mIn[34], line 1\u001b[1;36m\u001b[0m\n\u001b[1;33m    Теперь при помощи функции pairwise_tukeyhsd:\u001b[0m\n\u001b[1;37m           ^\u001b[0m\n\u001b[1;31mSyntaxError\u001b[0m\u001b[1;31m:\u001b[0m invalid syntax\n"
     ]
    }
   ],
   "source": [
    "Теперь при помощи функции pairwise_tukeyhsd:"
   ]
  },
  {
   "cell_type": "code",
   "execution_count": 35,
   "id": "4c1eacae",
   "metadata": {},
   "outputs": [
    {
     "data": {
      "text/html": [
       "<div>\n",
       "<style scoped>\n",
       "    .dataframe tbody tr th:only-of-type {\n",
       "        vertical-align: middle;\n",
       "    }\n",
       "\n",
       "    .dataframe tbody tr th {\n",
       "        vertical-align: top;\n",
       "    }\n",
       "\n",
       "    .dataframe thead th {\n",
       "        text-align: right;\n",
       "    }\n",
       "</style>\n",
       "<table border=\"1\" class=\"dataframe\">\n",
       "  <thead>\n",
       "    <tr style=\"text-align: right;\">\n",
       "      <th></th>\n",
       "      <th>height</th>\n",
       "      <th>sports</th>\n",
       "    </tr>\n",
       "  </thead>\n",
       "  <tbody>\n",
       "    <tr>\n",
       "      <th>0</th>\n",
       "      <td>173</td>\n",
       "      <td>football</td>\n",
       "    </tr>\n",
       "    <tr>\n",
       "      <th>1</th>\n",
       "      <td>175</td>\n",
       "      <td>football</td>\n",
       "    </tr>\n",
       "    <tr>\n",
       "      <th>2</th>\n",
       "      <td>180</td>\n",
       "      <td>football</td>\n",
       "    </tr>\n",
       "    <tr>\n",
       "      <th>3</th>\n",
       "      <td>178</td>\n",
       "      <td>football</td>\n",
       "    </tr>\n",
       "    <tr>\n",
       "      <th>4</th>\n",
       "      <td>177</td>\n",
       "      <td>football</td>\n",
       "    </tr>\n",
       "    <tr>\n",
       "      <th>5</th>\n",
       "      <td>185</td>\n",
       "      <td>football</td>\n",
       "    </tr>\n",
       "    <tr>\n",
       "      <th>6</th>\n",
       "      <td>183</td>\n",
       "      <td>football</td>\n",
       "    </tr>\n",
       "    <tr>\n",
       "      <th>7</th>\n",
       "      <td>182</td>\n",
       "      <td>football</td>\n",
       "    </tr>\n",
       "    <tr>\n",
       "      <th>8</th>\n",
       "      <td>177</td>\n",
       "      <td>hockey</td>\n",
       "    </tr>\n",
       "    <tr>\n",
       "      <th>9</th>\n",
       "      <td>179</td>\n",
       "      <td>hockey</td>\n",
       "    </tr>\n",
       "  </tbody>\n",
       "</table>\n",
       "</div>"
      ],
      "text/plain": [
       "   height    sports\n",
       "0     173  football\n",
       "1     175  football\n",
       "2     180  football\n",
       "3     178  football\n",
       "4     177  football\n",
       "5     185  football\n",
       "6     183  football\n",
       "7     182  football\n",
       "8     177    hockey\n",
       "9     179    hockey"
      ]
     },
     "execution_count": 35,
     "metadata": {},
     "output_type": "execute_result"
    }
   ],
   "source": [
    "import pandas as pd\n",
    "from statsmodels.stats.multicomp import pairwise_tukeyhsd\n",
    "height = np.concatenate([x1, x2, x3])\n",
    "sports = np.concatenate([np.full(len(x1), 'football'), \n",
    "                                np.full(len(x2), 'hockey'), \n",
    "                                np.full(len(x3), 'barbell')])\n",
    "df=pd.DataFrame({'height' : height, 'sports' : sports})\n",
    "df.head(10)"
   ]
  },
  {
   "cell_type": "code",
   "execution_count": 36,
   "id": "47bcf3c1",
   "metadata": {},
   "outputs": [
    {
     "name": "stdout",
     "output_type": "stream",
     "text": [
      "  Multiple Comparison of Means - Tukey HSD, FWER=0.05   \n",
      "========================================================\n",
      " group1   group2  meandiff p-adj   lower   upper  reject\n",
      "--------------------------------------------------------\n",
      " barbell football   6.3977 0.0219  0.8372 11.9583   True\n",
      " barbell   hockey   5.9394 0.0284  0.5607 11.3181   True\n",
      "football   hockey  -0.4583  0.979 -6.2732  5.3566  False\n",
      "--------------------------------------------------------\n"
     ]
    }
   ],
   "source": [
    "tukey = pairwise_tukeyhsd(df[\"height\"], df[\"sports\"], alpha=0.05)\n",
    "print(tukey)"
   ]
  },
  {
   "cell_type": "markdown",
   "id": "1e510bb5",
   "metadata": {},
   "source": [
    "По результатам работ обеих функций мы видим статистические значимые различия по парам штангисты - футболисты и штангисты хоккеисты."
   ]
  }
 ],
 "metadata": {
  "kernelspec": {
   "display_name": "Python 3 (ipykernel)",
   "language": "python",
   "name": "python3"
  },
  "language_info": {
   "codemirror_mode": {
    "name": "ipython",
    "version": 3
   },
   "file_extension": ".py",
   "mimetype": "text/x-python",
   "name": "python",
   "nbconvert_exporter": "python",
   "pygments_lexer": "ipython3",
   "version": "3.10.9"
  }
 },
 "nbformat": 4,
 "nbformat_minor": 5
}
