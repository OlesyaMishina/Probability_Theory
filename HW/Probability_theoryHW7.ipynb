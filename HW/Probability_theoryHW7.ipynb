{
 "cells": [
  {
   "cell_type": "markdown",
   "id": "3cd64485",
   "metadata": {},
   "source": [
    "1. Даны две  независимые выборки. Не соблюдается условие нормальности\n",
    "x1  380,420, 290\n",
    "y1 140,360,200,900\n",
    "\n",
    "Сделайте вывод по результатам, полученным с помощью функции"
   ]
  },
  {
   "cell_type": "code",
   "execution_count": 4,
   "id": "23e7975c",
   "metadata": {},
   "outputs": [
    {
     "name": "stdout",
     "output_type": "stream",
     "text": [
      "MannwhitneyuResult(statistic=8.0, pvalue=0.6285714285714286)\n"
     ]
    }
   ],
   "source": [
    "import numpy as np\n",
    "from scipy import stats\n",
    "x=np.array([380,420, 290])\n",
    "y=np.array([140,360,200,900])\n",
    "print(stats.mannwhitneyu(x,y))"
   ]
  },
  {
   "cell_type": "markdown",
   "id": "59bb6066",
   "metadata": {},
   "source": [
    "Так как значение P value больше уровня значимости, то принимаем нулевую гипотезу.\n"
   ]
  },
  {
   "cell_type": "markdown",
   "id": "6c200a3b",
   "metadata": {},
   "source": [
    "2. Исследовалось влияние препарата на уровень давления пациентов. Сначала измерялось давление до приема препарата, потом через 10 минут и через 30 минут. Есть ли статистически значимые различия?\n",
    "\n",
    "1е измерение до приема препарата: 150, 160, 165, 145, 155\n",
    "\n",
    "2е измерение через 10 минут: 140, 155, 150,  130, 135\n",
    "\n",
    "3е измерение через 30 минут: 130, 130, 120, 130, 125"
   ]
  },
  {
   "cell_type": "code",
   "execution_count": 8,
   "id": "137729e9",
   "metadata": {},
   "outputs": [
    {
     "name": "stdout",
     "output_type": "stream",
     "text": [
      "FriedmanchisquareResult(statistic=9.578947368421062, pvalue=0.00831683351100441)\n"
     ]
    }
   ],
   "source": [
    "first=np.array([150, 160, 165, 145, 155])\n",
    "second=np.array([140, 155, 150, 130, 135])\n",
    "third=np.array([130, 130, 120, 130, 125])\n",
    "print(stats.friedmanchisquare(first, second, third))"
   ]
  },
  {
   "cell_type": "markdown",
   "id": "eb404fb6",
   "metadata": {},
   "source": [
    "При уровне значимости 5% принимаем альтернативную гипотезу о наличии статистический различий, при уровне значимости 1% оставляем нулевую гипотезу."
   ]
  },
  {
   "cell_type": "markdown",
   "id": "a67f891c",
   "metadata": {},
   "source": [
    "3. Сравните 1 и 2 е измерения, предполагая, что 3го измерения через 30 минут не было."
   ]
  },
  {
   "cell_type": "code",
   "execution_count": 9,
   "id": "bfc3289c",
   "metadata": {},
   "outputs": [
    {
     "name": "stdout",
     "output_type": "stream",
     "text": [
      "WilcoxonResult(statistic=0.0, pvalue=0.0625)\n"
     ]
    }
   ],
   "source": [
    "print(stats.wilcoxon(first, second))"
   ]
  },
  {
   "cell_type": "markdown",
   "id": "8e9b65ea",
   "metadata": {},
   "source": [
    "Можем принять нулевую гипотезу при уровне значимости 5%, даже 10%."
   ]
  },
  {
   "cell_type": "markdown",
   "id": "723301eb",
   "metadata": {},
   "source": [
    "4. Даны 3 группы  учеников плавания.\n",
    "В 1 группе время на дистанцию 50 м составляют:\n",
    "56, 60, 62, 55, 71, 67, 59, 58, 64, 67\n",
    "\n",
    "Вторая группа : 57, 58, 69, 48, 72, 70, 68, 71, 50, 53\n",
    "Третья группа: 57, 67, 49, 48, 47, 55, 66, 51, 54"
   ]
  },
  {
   "cell_type": "code",
   "execution_count": 11,
   "id": "283d055d",
   "metadata": {},
   "outputs": [
    {
     "name": "stdout",
     "output_type": "stream",
     "text": [
      "KruskalResult(statistic=5.465564058257224, pvalue=0.0650380998590494)\n"
     ]
    }
   ],
   "source": [
    "first=np.array([56, 60, 62, 55, 71, 67, 59, 58, 64, 67])\n",
    "second=np.array([57, 58, 69, 48, 72, 70, 68, 71, 50, 53])\n",
    "third=np.array([57, 67, 49, 48, 47, 55, 66, 51, 54])\n",
    "print(stats.kruskal(first, second, third))"
   ]
  },
  {
   "cell_type": "markdown",
   "id": "031cdc28",
   "metadata": {},
   "source": [
    "Принимаем нулевую гипотезу об отсутствии статистический различий."
   ]
  },
  {
   "cell_type": "markdown",
   "id": "789c39d9",
   "metadata": {},
   "source": [
    "5. Заявляется, что партия изготавливается со средним арифметическим 2,5 см. Проверить данную гипотезу, если известно, что размеры изделий подчинены нормальному закону распределения. Объем выборки 10, уровень статистической значимости 5%\n",
    "\n",
    "2.51, 2.35, 2.74, 2.56, 2.40, 2.36, 2.65, 2.7, 2.67, 2.34"
   ]
  },
  {
   "cell_type": "code",
   "execution_count": 22,
   "id": "fd19d6d5",
   "metadata": {},
   "outputs": [
    {
     "name": "stdout",
     "output_type": "stream",
     "text": [
      "t_observed 0.563 < t_table 1.833 - принимаем нулевую гипотезу о равестве среднего арифметического партии 2,5 см\n"
     ]
    }
   ],
   "source": [
    "M=2.5\n",
    "alpha=0.05\n",
    "x=np.array([2.51, 2.35, 2.74, 2.56, 2.40, 2.36, 2.65, 2.7, 2.67, 2.34])\n",
    "std=np.std(x, ddof=1)\n",
    "M_observed=np.mean(x)\n",
    "t_observed=(M_observed-M)/(std/len(x)**0.5)\n",
    "t_table=stats.t.ppf(1-alpha, len(x)-1)\n",
    "if t_observed>t_table:\n",
    "    print(f't_observed {round(t_observed, 3)} > t_table {round(t_table, 3)} - принимаем альтернативную гипотезу о неравестве среднего арифметического партии 2,5 см')\n",
    "else: \n",
    "    print(f't_observed {round(t_observed, 3)} < t_table {round(t_table, 3)} - принимаем нулевую гипотезу о равестве среднего арифметического партии 2,5 см')"
   ]
  }
 ],
 "metadata": {
  "kernelspec": {
   "display_name": "Python 3 (ipykernel)",
   "language": "python",
   "name": "python3"
  },
  "language_info": {
   "codemirror_mode": {
    "name": "ipython",
    "version": 3
   },
   "file_extension": ".py",
   "mimetype": "text/x-python",
   "name": "python",
   "nbconvert_exporter": "python",
   "pygments_lexer": "ipython3",
   "version": "3.10.9"
  }
 },
 "nbformat": 4,
 "nbformat_minor": 5
}
